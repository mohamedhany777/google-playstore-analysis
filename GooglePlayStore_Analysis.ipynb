{
 "cells": [
  {
   "cell_type": "markdown",
   "id": "937a5f1f",
   "metadata": {},
   "source": [
    "# Google Play Store Data Analysis (Simplified)"
   ]
  },
  {
   "cell_type": "code",
   "execution_count": null,
   "id": "22702db4",
   "metadata": {},
   "outputs": [],
   "source": [
    "import pandas as pd\n",
    "import numpy as np"
   ]
  },
  {
   "cell_type": "code",
   "execution_count": null,
   "id": "54a3de51",
   "metadata": {},
   "outputs": [],
   "source": [
    "df = pd.read_csv('googleplaystore.csv')\n",
    "df.drop_duplicates(subset='App', inplace=True)"
   ]
  },
  {
   "cell_type": "code",
   "execution_count": null,
   "id": "714355c2",
   "metadata": {},
   "outputs": [],
   "source": [
    "\n",
    "# Data Cleaning\n",
    "df['Reviews'] = pd.to_numeric(df['Reviews'], errors='coerce')\n",
    "df = df[df['Installs'].str.match(r'^[\\d,]+[\\+]?$', na=False)]\n",
    "df['Installs'] = df['Installs'].str.replace('[+,]', '', regex=True).astype(float)\n",
    "df['Price'] = df['Price'].str.replace('$', '', regex=True).astype(float)\n",
    "df['Size'] = df['Size'].replace('Varies with device', np.nan)\n",
    "df['Size'] = df['Size'].str.replace('M', '').str.replace('k', 'e-3').astype(float)\n",
    "df['Rating'].fillna(df['Rating'].median(), inplace=True)\n"
   ]
  },
  {
   "cell_type": "code",
   "execution_count": null,
   "id": "a3d6d652",
   "metadata": {},
   "outputs": [],
   "source": [
    "# 1. Most Expensive App\n",
    "df[['App', 'Price']].sort_values('Price', ascending=False).head(1)"
   ]
  },
  {
   "cell_type": "code",
   "execution_count": null,
   "id": "6a4f09eb",
   "metadata": {},
   "outputs": [],
   "source": [
    "# 2. Genre with Most Apps\n",
    "df['Genres'].value_counts().head(1)"
   ]
  },
  {
   "cell_type": "code",
   "execution_count": null,
   "id": "9a1cb36a",
   "metadata": {},
   "outputs": [],
   "source": [
    "# 3. Avg Size Free vs Paid\n",
    "df.groupby('Type')['Size'].mean()"
   ]
  },
  {
   "cell_type": "code",
   "execution_count": null,
   "id": "49725df4",
   "metadata": {},
   "outputs": [],
   "source": [
    "# 4. Top 5 Expensive Perfect Rating\n",
    "df[df['Rating'] == 5.0].sort_values('Price', ascending=False).head(5)"
   ]
  },
  {
   "cell_type": "code",
   "execution_count": null,
   "id": "37641aed",
   "metadata": {},
   "outputs": [],
   "source": [
    "# 5. Apps with >50K Reviews\n",
    "len(df[df['Reviews'] > 50000])"
   ]
  },
  {
   "cell_type": "code",
   "execution_count": null,
   "id": "7c733f57",
   "metadata": {},
   "outputs": [],
   "source": [
    "# 6. Avg Price by Genre & Installs\n",
    "df.groupby(['Genres', 'Installs'])['Price'].mean().head()"
   ]
  },
  {
   "cell_type": "code",
   "execution_count": null,
   "id": "835cf361",
   "metadata": {},
   "outputs": [],
   "source": [
    "# 7. Apps Rating >4.7 & Avg Price\n",
    "df[df['Rating'] > 4.7]['Price'].mean()"
   ]
  },
  {
   "cell_type": "code",
   "execution_count": null,
   "id": "99fc8c67",
   "metadata": {},
   "outputs": [],
   "source": [
    "# 8. Google Revenue (5M+ Installs)\n",
    "revenue = (df[df['Installs'] >= 5000000]['Price'] * df['Installs']).sum() * 0.3\n",
    "revenue"
   ]
  },
  {
   "cell_type": "code",
   "execution_count": null,
   "id": "55e673ac",
   "metadata": {},
   "outputs": [],
   "source": [
    "# 9. Max/Min Size Free vs Paid\n",
    "df.groupby('Type')['Size'].agg(['min', 'max'])"
   ]
  },
  {
   "cell_type": "code",
   "execution_count": null,
   "id": "9c911cf4",
   "metadata": {},
   "outputs": [],
   "source": [
    "# 10. Correlation Matrix\n",
    "df[['Rating', 'Reviews', 'Size', 'Price']].corr()"
   ]
  },
  {
   "cell_type": "code",
   "execution_count": null,
   "id": "9e7579d6",
   "metadata": {},
   "outputs": [],
   "source": [
    "# 11. Apps per Type & Content Rating\n",
    "df.groupby(['Content Rating', 'Type']).size().unstack(fill_value=0)"
   ]
  },
  {
   "cell_type": "code",
   "execution_count": null,
   "id": "db808230",
   "metadata": {},
   "outputs": [],
   "source": [
    "# 12. Apps for Android 4.x\n",
    "df[df['Android Ver'].str.contains('4', na=False)].shape[0]"
   ]
  }
 ],
 "metadata": {},
 "nbformat": 4,
 "nbformat_minor": 5
}
